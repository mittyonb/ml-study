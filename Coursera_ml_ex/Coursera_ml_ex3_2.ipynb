{
 "cells": [
  {
   "cell_type": "code",
   "execution_count": 2,
   "metadata": {
    "collapsed": false
   },
   "outputs": [
    {
     "name": "stdout",
     "output_type": "stream",
     "text": [
      "['Theta2', '__version__', '__header__', 'Theta1', '__globals__']\n"
     ]
    }
   ],
   "source": [
    "import scipy.io\n",
    "\n",
    "data = scipy.io.loadmat('../coursera-ml-master/matlab/ex3weights.mat')\n",
    "print data.keys()"
   ]
  },
  {
   "cell_type": "code",
   "execution_count": 3,
   "metadata": {
    "collapsed": false
   },
   "outputs": [
    {
     "name": "stdout",
     "output_type": "stream",
     "text": [
      "(25, 401)\n",
      "(10, 26)\n"
     ]
    }
   ],
   "source": [
    "Theta1 = data['Theta1']\n",
    "Theta2 = data['Theta2']\n",
    "print Theta1.shape\n",
    "print Theta2.shape"
   ]
  },
  {
   "cell_type": "code",
   "execution_count": 4,
   "metadata": {
    "collapsed": false
   },
   "outputs": [
    {
     "name": "stdout",
     "output_type": "stream",
     "text": [
      "(5000, 400)\n",
      "(5000, 1)\n"
     ]
    }
   ],
   "source": [
    "data = scipy.io.loadmat('../coursera-ml-master/matlab/ex3data1.mat')\n",
    "X = data['X']\n",
    "y = data['y']\n",
    "print X.shape\n",
    "print y.shape"
   ]
  },
  {
   "cell_type": "code",
   "execution_count": 5,
   "metadata": {
    "collapsed": true
   },
   "outputs": [],
   "source": [
    "import numpy as np\n",
    "\n",
    "@np.vectorize\n",
    "def sigmoid(z):\n",
    "    ### YOUR CODE HERE ###\n",
    "    return 1 / (1 + np.exp(-z))\n",
    "    ######################\n",
    "\n",
    "def add_ones(X):#add bias unit\n",
    "    m, _ = X.shape\n",
    "    return np.column_stack((np.ones((m, 1)), X))\n",
    "    \n",
    "    \n",
    "def predict(Theta1, Theta2, X):\n",
    "    '''Returns an array of predicted digits (1..10)'''\n",
    "    ### YOUR CODE HERE ###\n",
    "    result = []\n",
    "    new_X = add_ones(X) #バイアスの追加\n",
    "    layer1 = sigmoid(np.dot(new_X,Theta1.T))\n",
    "    new_layer = add_ones(layer1) #バイアスの追加\n",
    "    h =sigmoid(np.dot(new_layer, Theta2.T))\n",
    "\n",
    "    for i in range(len(h)):\n",
    "        result.append(np.argmax(h[i])+1) #仮説の確率から1~10の予測値をリストに保持\n",
    "    return result"
   ]
  },
  {
   "cell_type": "code",
   "execution_count": 6,
   "metadata": {
    "collapsed": false
   },
   "outputs": [
    {
     "name": "stdout",
     "output_type": "stream",
     "text": [
      "training set accuracy = 97.5%\n"
     ]
    }
   ],
   "source": [
    "predictions = predict(Theta1, Theta2, X)\n",
    "print 'training set accuracy = %.1f%%' % (\n",
    "    100.0 * sum(p == y_ for p, y_ in zip(predictions, y.flatten())) / len(predictions))"
   ]
  },
  {
   "cell_type": "code",
   "execution_count": null,
   "metadata": {
    "collapsed": true
   },
   "outputs": [],
   "source": []
  }
 ],
 "metadata": {
  "anaconda-cloud": {},
  "kernelspec": {
   "display_name": "Python [conda root]",
   "language": "python",
   "name": "conda-root-py"
  },
  "language_info": {
   "codemirror_mode": {
    "name": "ipython",
    "version": 2
   },
   "file_extension": ".py",
   "mimetype": "text/x-python",
   "name": "python",
   "nbconvert_exporter": "python",
   "pygments_lexer": "ipython2",
   "version": "2.7.13"
  }
 },
 "nbformat": 4,
 "nbformat_minor": 1
}
